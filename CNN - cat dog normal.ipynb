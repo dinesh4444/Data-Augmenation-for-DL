{
 "cells": [
  {
   "cell_type": "code",
   "execution_count": 2,
   "id": "cf8f5cf7",
   "metadata": {},
   "outputs": [],
   "source": [
    "import cv2\n",
    "import os\n",
    "import random\n",
    "import numpy as np"
   ]
  },
  {
   "cell_type": "code",
   "execution_count": 3,
   "id": "770b48dd",
   "metadata": {},
   "outputs": [],
   "source": [
    "mydir = r\"F:\\Data\\Dinesh , Yantraveda\\Campus X\\DEEP LEARNING\\02-CNN\\New folder\\train\""
   ]
  },
  {
   "cell_type": "code",
   "execution_count": 4,
   "id": "92e90431",
   "metadata": {},
   "outputs": [],
   "source": [
    "categories = ['cat', 'dog']"
   ]
  },
  {
   "cell_type": "code",
   "execution_count": 5,
   "id": "04d65b15",
   "metadata": {},
   "outputs": [],
   "source": [
    "data = []\n",
    "\n",
    "for i in categories:\n",
    "    \n",
    "    folder_path = os.path.join(mydir,i)\n",
    "    \n",
    "    if i == 'cat':\n",
    "        label = 0\n",
    "    else:\n",
    "        label = 1\n",
    "        \n",
    "    for j in os.listdir(folder_path):\n",
    "        \n",
    "        img_path = os.path.join(folder_path, j)\n",
    "        img = cv2.imread(img_path)\n",
    "        img = cv2.resize(img,(150,150))\n",
    "        data.append([img,label])"
   ]
  },
  {
   "cell_type": "code",
   "execution_count": 6,
   "id": "37df78f3",
   "metadata": {},
   "outputs": [],
   "source": [
    "random.shuffle(data)"
   ]
  },
  {
   "cell_type": "code",
   "execution_count": 9,
   "id": "b240fec0",
   "metadata": {},
   "outputs": [],
   "source": [
    "X = []\n",
    "y = []\n",
    "\n",
    "for i in data:\n",
    "    \n",
    "    X.append(i[0])\n",
    "    y.append(i[1])"
   ]
  },
  {
   "cell_type": "code",
   "execution_count": 10,
   "id": "a09794ff",
   "metadata": {},
   "outputs": [],
   "source": [
    "y = np.array(y)"
   ]
  },
  {
   "cell_type": "code",
   "execution_count": 11,
   "id": "f9dfd5cb",
   "metadata": {},
   "outputs": [],
   "source": [
    "X = np.array(X)"
   ]
  },
  {
   "cell_type": "code",
   "execution_count": 12,
   "id": "a2bdcb58",
   "metadata": {},
   "outputs": [
    {
     "data": {
      "text/plain": [
       "(2000, 150, 150, 3)"
      ]
     },
     "execution_count": 12,
     "metadata": {},
     "output_type": "execute_result"
    }
   ],
   "source": [
    "X.shape"
   ]
  },
  {
   "cell_type": "code",
   "execution_count": 13,
   "id": "42d02721",
   "metadata": {},
   "outputs": [],
   "source": [
    "X = X/255"
   ]
  },
  {
   "cell_type": "code",
   "execution_count": 14,
   "id": "f6504eb2",
   "metadata": {},
   "outputs": [],
   "source": [
    "# create CNN from here\n",
    "\n",
    "from keras import Sequential\n",
    "from keras.layers import Conv2D, MaxPooling2D, Dense, Flatten, Activation, Dropout"
   ]
  },
  {
   "cell_type": "code",
   "execution_count": 15,
   "id": "674567ef",
   "metadata": {},
   "outputs": [],
   "source": [
    "model = Sequential()\n",
    "\n",
    "model.add(Conv2D(32, (3,3), input_shape=(150,150,3)))\n",
    "model.add(Activation('relu'))\n",
    "model.add(MaxPooling2D(pool_size=(2,2)))\n",
    "\n",
    "model.add(Conv2D(32, (3,3)))\n",
    "model.add(Activation('relu'))\n",
    "model.add(MaxPooling2D(pool_size=(2,2)))\n",
    "\n",
    "model.add(Conv2D(64, (3,3)))\n",
    "model.add(Activation('relu'))\n",
    "model.add(MaxPooling2D(pool_size=(2,2)))"
   ]
  },
  {
   "cell_type": "code",
   "execution_count": 16,
   "id": "9a7e2d27",
   "metadata": {},
   "outputs": [],
   "source": [
    "model.add(Flatten())      # this converts our 3D feature maps to 1D feature vectors\n",
    "model.add(Dense(64))\n",
    "model.add(Activation('relu'))\n",
    "model.add(Dropout(0.5))\n",
    "model.add(Dense(1))\n",
    "model.add(Activation('sigmoid'))\n",
    "\n",
    "model.compile(loss='binary_crossentropy',\n",
    "             optimizer='rmsprop',\n",
    "             metrics=['accuracy'])"
   ]
  },
  {
   "cell_type": "code",
   "execution_count": 17,
   "id": "89b0925c",
   "metadata": {},
   "outputs": [
    {
     "name": "stdout",
     "output_type": "stream",
     "text": [
      "Epoch 1/5\n",
      "57/57 [==============================] - 60s 975ms/step - loss: 0.6970 - accuracy: 0.5433 - val_loss: 0.6864 - val_accuracy: 0.6050\n",
      "Epoch 2/5\n",
      "57/57 [==============================] - 55s 959ms/step - loss: 0.6774 - accuracy: 0.5833 - val_loss: 0.7565 - val_accuracy: 0.5150\n",
      "Epoch 3/5\n",
      "57/57 [==============================] - 56s 976ms/step - loss: 0.6347 - accuracy: 0.6517 - val_loss: 0.6283 - val_accuracy: 0.6150\n",
      "Epoch 4/5\n",
      "57/57 [==============================] - 55s 958ms/step - loss: 0.5769 - accuracy: 0.6994 - val_loss: 0.6106 - val_accuracy: 0.6650\n",
      "Epoch 5/5\n",
      "57/57 [==============================] - 60s 1s/step - loss: 0.5182 - accuracy: 0.7439 - val_loss: 0.6771 - val_accuracy: 0.6700\n"
     ]
    },
    {
     "data": {
      "text/plain": [
       "<keras.callbacks.History at 0x19363d3b2b0>"
      ]
     },
     "execution_count": 17,
     "metadata": {},
     "output_type": "execute_result"
    }
   ],
   "source": [
    "model.fit(X, y, epochs=5, validation_split=0.1)"
   ]
  },
  {
   "cell_type": "code",
   "execution_count": null,
   "id": "6d87e2b3",
   "metadata": {},
   "outputs": [],
   "source": []
  }
 ],
 "metadata": {
  "kernelspec": {
   "display_name": "Python 3 (ipykernel)",
   "language": "python",
   "name": "python3"
  },
  "language_info": {
   "codemirror_mode": {
    "name": "ipython",
    "version": 3
   },
   "file_extension": ".py",
   "mimetype": "text/x-python",
   "name": "python",
   "nbconvert_exporter": "python",
   "pygments_lexer": "ipython3",
   "version": "3.9.13"
  }
 },
 "nbformat": 4,
 "nbformat_minor": 5
}
