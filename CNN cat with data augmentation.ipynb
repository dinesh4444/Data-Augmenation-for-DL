{
 "cells": [
  {
   "cell_type": "code",
   "execution_count": 1,
   "id": "19040132",
   "metadata": {},
   "outputs": [],
   "source": [
    "from keras.preprocessing.image import ImageDataGenerator"
   ]
  },
  {
   "cell_type": "code",
   "execution_count": 2,
   "id": "0b2fbb83",
   "metadata": {},
   "outputs": [
    {
     "name": "stdout",
     "output_type": "stream",
     "text": [
      "Found 2000 images belonging to 2 classes.\n",
      "Found 1000 images belonging to 2 classes.\n"
     ]
    }
   ],
   "source": [
    "batch_size = 16\n",
    "\n",
    "# this is the augmentation configuration we will use for training\n",
    "train_datagen = ImageDataGenerator(\n",
    "            rescale=1./255,\n",
    "            shear_range=0.2,\n",
    "            zoom_range=0.2,\n",
    "            horizontal_flip=True)\n",
    "\n",
    "# this is the augmentation configuration we will use for testing\n",
    "# only rescaling\n",
    "test_datagen = ImageDataGenerator(rescale=1./255)\n",
    "\n",
    "# this is a generator that will read picture found in \n",
    "# subfolder of 'data/train', and indefinately generate\n",
    "# batches of augmented image data\n",
    "train_generator = train_datagen.flow_from_directory(\n",
    "                r\"F:\\Data\\Dinesh , Yantraveda\\Campus X\\DEEP LEARNING\\02-CNN\\New folder\\train\",      # this is the target directory\n",
    "                target_size=(150,150),     # all images will be resized to 150 x 150\n",
    "                batch_size=batch_size,\n",
    "                class_mode='binary')       # since we use binary_crossentropy loss, we need binary labels\n",
    "\n",
    "# this is a similar generator for validation data\n",
    "validation_generator = test_datagen.flow_from_directory(\n",
    "                r\"F:\\Data\\Dinesh , Yantraveda\\Campus X\\DEEP LEARNING\\02-CNN\\New folder\\validation\",\n",
    "                target_size=(150,150),\n",
    "                batch_size=batch_size,\n",
    "                class_mode='binary')"
   ]
  },
  {
   "cell_type": "code",
   "execution_count": 3,
   "id": "62e37319",
   "metadata": {},
   "outputs": [],
   "source": [
    "from keras.models import Sequential\n",
    "from keras.layers import Conv2D, MaxPool2D\n",
    "from keras.layers import Activation, Dropout, Flatten, Dense\n",
    "\n",
    "model = Sequential()\n",
    "model.add(Conv2D(32, (3,3), input_shape=(150,150,3)))\n",
    "model.add(Activation('relu'))\n",
    "model.add(MaxPool2D(pool_size=(2,2)))\n",
    "\n",
    "model.add(Conv2D(32, (3,3)))\n",
    "model.add(Activation('relu'))\n",
    "model.add(MaxPool2D(pool_size=(2,2)))\n",
    "\n",
    "model.add(Conv2D(64, (3,3)))\n",
    "model.add(Activation('relu'))\n",
    "model.add(MaxPool2D(pool_size=(2,2)))"
   ]
  },
  {
   "cell_type": "code",
   "execution_count": 4,
   "id": "3d7be1a0",
   "metadata": {},
   "outputs": [],
   "source": [
    "model.add(Flatten())        # this converts our 3D feature to 1D feature vectors\n",
    "model.add(Dense(64))\n",
    "model.add(Activation('relu'))\n",
    "model.add(Dropout(0.5))\n",
    "model.add(Dense(1))\n",
    "model.add(Activation('sigmoid'))\n",
    "\n",
    "model.compile(loss='binary_crossentropy',\n",
    "             optimizer='rmsprop',\n",
    "             metrics=['accuracy'])\n",
    "    "
   ]
  },
  {
   "cell_type": "code",
   "execution_count": 5,
   "id": "2d981d81",
   "metadata": {},
   "outputs": [
    {
     "name": "stderr",
     "output_type": "stream",
     "text": [
      "C:\\Users\\HP.DESKTOP-5IHNLMQ\\AppData\\Local\\Temp\\ipykernel_6896\\3322083065.py:1: UserWarning: `Model.fit_generator` is deprecated and will be removed in a future version. Please use `Model.fit`, which supports generators.\n",
      "  model.fit_generator(\n"
     ]
    },
    {
     "name": "stdout",
     "output_type": "stream",
     "text": [
      "Epoch 1/25\n",
      "125/125 [==============================] - 128s 1s/step - loss: 0.7302 - accuracy: 0.5220 - val_loss: 0.6918 - val_accuracy: 0.6025\n",
      "Epoch 2/25\n",
      "125/125 [==============================] - 85s 677ms/step - loss: 0.6927 - accuracy: 0.5300 - val_loss: 0.6743 - val_accuracy: 0.5813\n",
      "Epoch 3/25\n",
      "125/125 [==============================] - 85s 679ms/step - loss: 0.6811 - accuracy: 0.5665 - val_loss: 0.6548 - val_accuracy: 0.6700\n",
      "Epoch 4/25\n",
      "125/125 [==============================] - 84s 667ms/step - loss: 0.6664 - accuracy: 0.6250 - val_loss: 0.6167 - val_accuracy: 0.6787\n",
      "Epoch 5/25\n",
      "125/125 [==============================] - 84s 672ms/step - loss: 0.6399 - accuracy: 0.6455 - val_loss: 0.6194 - val_accuracy: 0.6463\n",
      "Epoch 6/25\n",
      "125/125 [==============================] - 83s 662ms/step - loss: 0.6213 - accuracy: 0.6790 - val_loss: 0.5783 - val_accuracy: 0.6950\n",
      "Epoch 7/25\n",
      "125/125 [==============================] - 85s 677ms/step - loss: 0.6024 - accuracy: 0.6895 - val_loss: 0.5610 - val_accuracy: 0.7175\n",
      "Epoch 8/25\n",
      "125/125 [==============================] - 83s 665ms/step - loss: 0.5844 - accuracy: 0.6900 - val_loss: 0.5449 - val_accuracy: 0.7088\n",
      "Epoch 9/25\n",
      "125/125 [==============================] - 83s 666ms/step - loss: 0.5772 - accuracy: 0.7145 - val_loss: 0.5680 - val_accuracy: 0.7188\n",
      "Epoch 10/25\n",
      "125/125 [==============================] - 84s 672ms/step - loss: 0.5552 - accuracy: 0.7295 - val_loss: 0.5167 - val_accuracy: 0.7425\n",
      "Epoch 11/25\n",
      "125/125 [==============================] - 84s 672ms/step - loss: 0.5375 - accuracy: 0.7375 - val_loss: 0.5579 - val_accuracy: 0.7038\n",
      "Epoch 12/25\n",
      "125/125 [==============================] - 83s 662ms/step - loss: 0.5405 - accuracy: 0.7335 - val_loss: 0.5117 - val_accuracy: 0.7600\n",
      "Epoch 13/25\n",
      "125/125 [==============================] - 84s 668ms/step - loss: 0.5284 - accuracy: 0.7305 - val_loss: 0.5196 - val_accuracy: 0.7487\n",
      "Epoch 14/25\n",
      "125/125 [==============================] - 84s 674ms/step - loss: 0.5145 - accuracy: 0.7460 - val_loss: 0.4962 - val_accuracy: 0.7575\n",
      "Epoch 15/25\n",
      "125/125 [==============================] - 84s 670ms/step - loss: 0.5069 - accuracy: 0.7670 - val_loss: 0.4804 - val_accuracy: 0.7887\n",
      "Epoch 16/25\n",
      "125/125 [==============================] - 83s 665ms/step - loss: 0.4956 - accuracy: 0.7615 - val_loss: 0.4818 - val_accuracy: 0.7713\n",
      "Epoch 17/25\n",
      "125/125 [==============================] - 84s 669ms/step - loss: 0.5019 - accuracy: 0.7690 - val_loss: 0.5018 - val_accuracy: 0.7550\n",
      "Epoch 18/25\n",
      "125/125 [==============================] - 84s 675ms/step - loss: 0.4945 - accuracy: 0.7640 - val_loss: 0.4624 - val_accuracy: 0.7763\n",
      "Epoch 19/25\n",
      "125/125 [==============================] - 83s 666ms/step - loss: 0.4777 - accuracy: 0.7875 - val_loss: 0.4653 - val_accuracy: 0.7713\n",
      "Epoch 20/25\n",
      "125/125 [==============================] - 83s 666ms/step - loss: 0.4770 - accuracy: 0.7865 - val_loss: 0.4500 - val_accuracy: 0.7825\n",
      "Epoch 21/25\n",
      "125/125 [==============================] - 83s 664ms/step - loss: 0.4665 - accuracy: 0.7885 - val_loss: 0.4676 - val_accuracy: 0.7925\n",
      "Epoch 22/25\n",
      "125/125 [==============================] - 85s 678ms/step - loss: 0.4549 - accuracy: 0.7840 - val_loss: 0.4689 - val_accuracy: 0.7738\n",
      "Epoch 23/25\n",
      "125/125 [==============================] - 84s 667ms/step - loss: 0.4302 - accuracy: 0.8105 - val_loss: 0.4612 - val_accuracy: 0.7763\n",
      "Epoch 24/25\n",
      "125/125 [==============================] - 84s 668ms/step - loss: 0.4309 - accuracy: 0.8030 - val_loss: 0.5377 - val_accuracy: 0.7725\n",
      "Epoch 25/25\n",
      "125/125 [==============================] - 83s 666ms/step - loss: 0.4131 - accuracy: 0.8005 - val_loss: 0.5550 - val_accuracy: 0.7850\n"
     ]
    },
    {
     "data": {
      "text/plain": [
       "<keras.callbacks.History at 0x2917ceeb9d0>"
      ]
     },
     "execution_count": 5,
     "metadata": {},
     "output_type": "execute_result"
    }
   ],
   "source": [
    "model.fit_generator(\n",
    "        train_generator,\n",
    "        steps_per_epoch=2000 // batch_size,\n",
    "        epochs=25,\n",
    "        validation_data=validation_generator,\n",
    "        validation_steps=800 // batch_size)"
   ]
  },
  {
   "cell_type": "code",
   "execution_count": 6,
   "id": "f3fbae49",
   "metadata": {},
   "outputs": [],
   "source": [
    "import matplotlib.pyplot as plt"
   ]
  },
  {
   "cell_type": "code",
   "execution_count": null,
   "id": "7461d27d",
   "metadata": {},
   "outputs": [],
   "source": []
  },
  {
   "cell_type": "code",
   "execution_count": null,
   "id": "af108fcf",
   "metadata": {},
   "outputs": [],
   "source": []
  }
 ],
 "metadata": {
  "kernelspec": {
   "display_name": "Python 3 (ipykernel)",
   "language": "python",
   "name": "python3"
  },
  "language_info": {
   "codemirror_mode": {
    "name": "ipython",
    "version": 3
   },
   "file_extension": ".py",
   "mimetype": "text/x-python",
   "name": "python",
   "nbconvert_exporter": "python",
   "pygments_lexer": "ipython3",
   "version": "3.9.13"
  }
 },
 "nbformat": 4,
 "nbformat_minor": 5
}
